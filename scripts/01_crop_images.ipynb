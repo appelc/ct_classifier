{
 "cells": [
  {
   "cell_type": "code",
   "execution_count": 1,
   "metadata": {},
   "outputs": [],
   "source": [
    "#CROP IMAGES -- from Magali F.\n",
    "#This script will read the annotations from the COCO JSON, find the corresponding image, crop it based on the bounding box, and save the cropped images in a folder named cropped_images.\n",
    "\n",
    "import json\n",
    "from PIL import Image\n",
    "import os"
   ]
  },
  {
   "cell_type": "code",
   "execution_count": 2,
   "metadata": {},
   "outputs": [],
   "source": [
    "## For each set (train, val and test) the code (function below) has to run to save images in different folders.\n",
    "\n",
    "# Load COCO JSON and set root path to images\n",
    "\n",
    "#GROUND\n",
    "# with open('/home/cara/oregon_critters/json/dataset_ground_620_adjxy.json', 'r') as f:\n",
    "#     coco_data = json.load(f)\n",
    "# root_path = '/mnt/ssd-cluster/cara/upload_ground_thresh620/'\n",
    "\n",
    "#TRAIL\n",
    "with open('/home/cara/oregon_critters/json/dataset_trail_180_adjxy.json', 'r') as f:\n",
    "    coco_data = json.load(f)\n",
    "root_path = '/mnt/ssd-cluster/cara/upload_trail_thresh180/'\n",
    "\n",
    "#BOTH\n",
    "# just make dir below and copy all images from GROUND and from TRAIL in there"
   ]
  },
  {
   "cell_type": "code",
   "execution_count": 3,
   "metadata": {},
   "outputs": [
    {
     "name": "stdout",
     "output_type": "stream",
     "text": [
      "/home/cara/ct_classifier/data/trail_cropped_images\n"
     ]
    }
   ],
   "source": [
    "# Create a directory (new folder) to store the cropped images\n",
    "\n",
    "#GROUND\n",
    "# os.makedirs('/home/cara/ct_classifier/data/ground_cropped_images', exist_ok=True)\n",
    "# destination_file_path = os.path.join('/home/cara/ct_classifier/data/ground_cropped_images')\n",
    "# print(destination_file_path)\n",
    "\n",
    "#TRAIL\n",
    "os.makedirs('/home/cara/ct_classifier/data/trail_cropped_images', exist_ok=True)\n",
    "destination_file_path = os.path.join('/home/cara/ct_classifier/data/trail_cropped_images')\n",
    "print(destination_file_path)\n"
   ]
  },
  {
   "cell_type": "code",
   "execution_count": null,
   "metadata": {},
   "outputs": [],
   "source": [
    "## Define and run the function to crop and save images\n",
    "\n",
    "for coco_ann_index, annotation in enumerate(coco_data['annotations']):\n",
    "    image_id = annotation['image_id']\n",
    "    bbox = annotation['bbox']\n",
    "    # In COCO, bbox is in the format [x, y, width, height]\n",
    "    x, y, width, height = map(int, bbox)\n",
    "\n",
    "    # Find the image path corresponding to the image_id\n",
    "    image_data = next(item for item in coco_data['images'] if item[\"id\"] == image_id)\n",
    "    #image_path = image_data['file_name']\n",
    "    image_path = root_path + image_data['file_name']\n",
    "\n",
    "    # Extract original filename\n",
    "    original_filename = os.path.basename(image_data['file_name'])\n",
    "    cropped_img_path = os.path.join(destination_file_path, original_filename.replace(\".\", f\"_cropped{image_id}.\"))\n",
    "\n",
    "    ## To pick up where I left off after an error\n",
    "    # if coco_ann_index < 4425:\n",
    "    #     continue  #continue means return to top\n",
    "\n",
    "    # Open the image using PIL\n",
    "    with Image.open(image_path) as img:\n",
    "        # Crop image using bbox\n",
    "        cropped_img = img.crop((x, y, x + width, y + height))\n",
    "\n",
    "        # Save cropped image using the original filename (built in error handling)\n",
    "        try:\n",
    "            cropped_img.save(cropped_img_path)\n",
    "        except:\n",
    "            print(f\"Error with {cropped_img_path}\")\n",
    "        else:\n",
    "            pass\n",
    "            #print(f\"Saved cropped image to {cropped_img_path}\")\n"
   ]
  },
  {
   "cell_type": "code",
   "execution_count": 5,
   "metadata": {},
   "outputs": [],
   "source": [
    "#BOTH\n",
    "os.makedirs('/home/cara/ct_classifier/data/bothB_cropped_images', exist_ok=True)\n",
    "\n",
    "# now copy crops from GROUND and TRAIL into there\n"
   ]
  },
  {
   "cell_type": "code",
   "execution_count": null,
   "metadata": {},
   "outputs": [],
   "source": []
  }
 ],
 "metadata": {
  "kernelspec": {
   "display_name": "cara_cv4e",
   "language": "python",
   "name": "python3"
  },
  "language_info": {
   "codemirror_mode": {
    "name": "ipython",
    "version": 3
   },
   "file_extension": ".py",
   "mimetype": "text/x-python",
   "name": "python",
   "nbconvert_exporter": "python",
   "pygments_lexer": "ipython3",
   "version": "3.9.17"
  },
  "orig_nbformat": 4
 },
 "nbformat": 4,
 "nbformat_minor": 2
}
